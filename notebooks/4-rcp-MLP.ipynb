{
 "cells": [
  {
   "cell_type": "markdown",
   "metadata": {},
   "source": [
    "# TODO"
   ]
  },
  {
   "cell_type": "markdown",
   "id": "f6828844-3a74-49bd-8348-ceae45948da7",
   "metadata": {
    "id": "f6828844-3a74-49bd-8348-ceae45948da7"
   },
   "source": [
    "# Load data"
   ]
  },
  {
   "cell_type": "code",
   "execution_count": 1,
   "id": "a5713c2d-0108-4708-9f0d-021e183f6d1e",
   "metadata": {
    "id": "a5713c2d-0108-4708-9f0d-021e183f6d1e"
   },
   "outputs": [],
   "source": [
    "import torch\n",
    "import pandas as pd\n",
    "import matplotlib.pyplot as plt\n",
    "%matplotlib widget\n",
    "\n",
    "from iterativennsimple.Sequential2D import Sequential2D, Identity\n",
    "from iterativennsimple.Sequential1D import Sequential1D\n",
    "\n",
    "from iterativennsimple.utils.plot_2D_start_end import plot_2D_start_end"
   ]
  },
  {
   "cell_type": "code",
   "execution_count": 2,
   "metadata": {},
   "outputs": [],
   "source": [
    "# Turn a pandas dataframe into a pytorch tensor\n",
    "def df_to_tensor(df):\n",
    "    return torch.tensor(df.values, dtype=torch.float32)"
   ]
  },
  {
   "cell_type": "code",
   "execution_count": 3,
   "id": "9f5c3fcc-147d-4669-8ab2-3ddf16a88b4e",
   "metadata": {
    "id": "9f5c3fcc-147d-4669-8ab2-3ddf16a88b4e"
   },
   "outputs": [],
   "source": [
    "#name = 'regression_line'\n",
    "#name = 'pca_line'\n",
    "#name = 'circle'\n",
    "#name = 'regression_circle'\n",
    "#one_hot_y = False\n",
    "\n",
    "name = 'MNIST'\n",
    "one_hot_y = True\n",
    "\n",
    "# Read the start data\n",
    "z_start = pd.read_parquet(f'../data/processed/{name}_start.parquet')\n",
    "# Read the target data\n",
    "z_target = pd.read_parquet(f'../data/processed/{name}_target.parquet')"
   ]
  },
  {
   "cell_type": "markdown",
   "metadata": {},
   "source": [
    "## Data preprocessing"
   ]
  },
  {
   "cell_type": "code",
   "execution_count": 4,
   "metadata": {},
   "outputs": [],
   "source": [
    "z_start_tensor = df_to_tensor(z_start)\n",
    "z_target_tensor = df_to_tensor(z_target)\n",
    "\n",
    "# Only use the given number of sample, up to 60000\n",
    "max_num_samples = 1000\n",
    "num_samples = min(max_num_samples, z_start_tensor.shape[0])\n",
    "z_start_tensor = z_start_tensor[:num_samples]\n",
    "z_target_tensor = z_target_tensor[:num_samples]\n"
   ]
  },
  {
   "cell_type": "markdown",
   "metadata": {},
   "source": [
    "We have two views of the data, and here is where we reconcile them.   The dynamical systems view is to have vector $z_0$ (called \"z_start_tensor\" in the code) and $z_1$ (called \"z_target_tensor\" in the code) that are the initial and final states of the system.  We want to construct a function $f$ (or more precisely choose a set of parameters $\\theta$ that selects $f$ from some family of functions) such that $\\|f(z_0) - z_1\\|$ is small.  The machine learning view is to have a set of inputs $x$ (which is a subset of \"z_start_tensor\") and a set of outputs $y$ (which is a subset of \"z_target_tensor\") and to construct a function $g$ (or more precisely choose a set of parameters $\\phi$ that selects $g$ from some family of functions) such that $\\|g(x) - y\\|$ is small.   \n",
    "\n",
    "**The idea is to have $x$ and $y$ be subsets of $z_0$ and $z_1$ respectively!**   But how to do that!?"
   ]
  },
  {
   "cell_type": "markdown",
   "metadata": {},
   "source": [
    "Let's begin by writing \n",
    "\n",
    "$$\n",
    "z_i=\n",
    "\\begin{bmatrix}\n",
    "x_i \\\\\n",
    "y_i \\\\\n",
    "\\end{bmatrix}\n",
    "$$\n",
    "\n",
    "and **we assume that $x_0=x_1$**.  This may seem odd at first glance, but is actually quite natural.  For example, in our MNIST example the starting image in $x_0$ and the target image in $x_1$ are the same.  It is merely the classification in $y_0$ and $y_1$ that are different.  I.e., $y_0$ contains some noisy classification or uniform prior of $x_0$ and $y_1$ contains the correct classification of $x_0$.  In the case of the MNIST data, we have $x_0=x_1$ and $y_0\\neq y_1$.\n",
    "\n",
    "So, in slighltly more detail we choose $z_0$ and $z_1$ so that\n",
    "\n",
    "$$\n",
    "z_0=\n",
    "\\begin{bmatrix}\n",
    "x_0 \\\\\n",
    "y_0 \\\\\n",
    "\\end{bmatrix}\n",
    "$$\n",
    "\n",
    "and\n",
    "\n",
    "$$\n",
    "z_1=\n",
    "\\begin{bmatrix}\n",
    "x_0 \\\\\n",
    "y_1 \\\\\n",
    "\\end{bmatrix}\n",
    "$$"
   ]
  },
  {
   "cell_type": "code",
   "execution_count": 5,
   "metadata": {},
   "outputs": [
    {
     "name": "stdout",
     "output_type": "stream",
     "text": [
      "torch.Size([794]) torch.Size([794])\n",
      "tensor(784) tensor(10)\n"
     ]
    }
   ],
   "source": [
    "\n",
    "# compute a mask for the data where every entry in each column is the same\n",
    "# this is used to remove columns that are constant\n",
    "mask = (z_start_tensor == z_target_tensor).all(axis=0)\n",
    "mask.shape\n",
    "x_mask = mask\n",
    "y_mask = ~mask\n",
    "\n",
    "# print out the shape of the masks\n",
    "print(x_mask.shape, y_mask.shape)\n",
    "\n",
    "# print out number of true entries in each mask\n",
    "print(x_mask.sum(), y_mask.sum())\n"
   ]
  },
  {
   "cell_type": "markdown",
   "id": "1880ae29-6269-42a9-870f-fb52bb18cf36",
   "metadata": {
    "id": "1880ae29-6269-42a9-870f-fb52bb18cf36"
   },
   "source": [
    "# MLP model"
   ]
  },
  {
   "cell_type": "markdown",
   "metadata": {},
   "source": [
    "Now we start using Sequential2D to build our model.  This requires a little massaging of the data.  In particlar, remember that we now have an iterative map of the form\n",
    "\n",
    "$$\n",
    "\\begin{bmatrix}\n",
    "I   & 0   & 0   & 0 \\\\\n",
    "f_1 & 0   & 0   & 0 \\\\\n",
    "0   & f_2 & 0   & 0 \\\\\n",
    "0   & 0   & f_3 & 0 \\\\\n",
    "\\end{bmatrix}\n",
    "$$\n",
    "\n",
    "and a state vector that combines $x$, $y$, and *the hidden layers* in the following way.\n",
    "\n",
    "$$\n",
    "\\begin{bmatrix}\n",
    "I   & 0   & 0   & 0 \\\\\n",
    "f_1 & 0   & 0   & 0 \\\\\n",
    "0   & f_2 & 0   & 0 \\\\\n",
    "0   & 0   & f_3 & 0 \\\\\n",
    "\\end{bmatrix}\n",
    "\\circ\n",
    "\\begin{bmatrix}\n",
    "x_0 \\\\\n",
    "h_1 \\\\\n",
    "h_2 \\\\\n",
    "y_0 \\\\\n",
    "\\end{bmatrix}\n",
    "$$"
   ]
  },
  {
   "cell_type": "markdown",
   "metadata": {},
   "source": [
    "I am feeling a little silly today, so let's do the rest using Achilles and the Hare from Godel, Escher, Bach."
   ]
  },
  {
   "cell_type": "markdown",
   "metadata": {},
   "source": [
    "Achilles:  But... didn't you just say that an normal ML algorithm link and MLP ignores $y_0$?  Look, doesn't $y_0$ appear right up there?  \n",
    "\n",
    "Hare: Well, look at what happens after the first iteration.\n",
    "\n",
    "$$\n",
    "\\begin{bmatrix}\n",
    "I   & 0   & 0   & 0 \\\\\n",
    "f_1 & 0   & 0   & 0 \\\\\n",
    "0   & f_2 & 0   & 0 \\\\\n",
    "0   & 0   & f_3 & 0 \\\\\n",
    "\\end{bmatrix}\n",
    "\\circ\n",
    "\\begin{bmatrix}\n",
    "x_0 \\\\\n",
    "h_1 \\\\\n",
    "h_2 \\\\\n",
    "y_0 \\\\\n",
    "\\end{bmatrix}\n",
    "=\n",
    "\\begin{bmatrix}\n",
    "x_0 \\\\\n",
    "f_1(x_0) \\\\\n",
    "f_2(h_1) \\\\\n",
    "f_3(h_2) \\\\\n",
    "\\end{bmatrix}\n",
    "$$\n",
    "\n",
    "which **does not** contain $y_0$!  The MLP is cunningly designed to ignore the initial guess contained in $y_0$ :-)"
   ]
  },
  {
   "cell_type": "markdown",
   "metadata": {},
   "source": [
    "Achilles:  But... but... but...  what about the hidden layers $h_1$ and $h_2$?  Don't you need to choose them carefully since they are the input to the next layer\\iteration?  I remember reading that MLPs don't care about random initializations of the hidden layers since they will be overwritten by the training process!?\n",
    "\n",
    "Hare: Yes, but...  look at what happens after the second iteration.\n",
    "\n",
    "$$\n",
    "\\begin{bmatrix}\n",
    "I   & 0   & 0   & 0 \\\\\n",
    "f_1 & 0   & 0   & 0 \\\\\n",
    "0   & f_2 & 0   & 0 \\\\\n",
    "0   & 0   & f_3 & 0 \\\\\n",
    "\\end{bmatrix}\n",
    "\\circ\n",
    "\\begin{bmatrix}\n",
    "I   & 0   & 0   & 0 \\\\\n",
    "f_1 & 0   & 0   & 0 \\\\\n",
    "0   & f_2 & 0   & 0 \\\\\n",
    "0   & 0   & f_3 & 0 \\\\\n",
    "\\end{bmatrix}\n",
    "\\circ\n",
    "\\begin{bmatrix}\n",
    "x_0 \\\\\n",
    "h_1 \\\\\n",
    "h_2 \\\\\n",
    "y_0 \\\\\n",
    "\\end{bmatrix}\n",
    "=\n",
    "\\begin{bmatrix}\n",
    "x_0 \\\\\n",
    "f_1(x_0) \\\\\n",
    "f_2(f_1(x_0)) \\\\\n",
    "f_3(f_2(h_1)) \\\\\n",
    "\\end{bmatrix}\n",
    "$$\n"
   ]
  },
  {
   "cell_type": "markdown",
   "metadata": {},
   "source": [
    "Hare: And one more iteration gives\n",
    "\n",
    "$$\n",
    "\\begin{bmatrix}\n",
    "I   & 0   & 0   & 0 \\\\\n",
    "f_1 & 0   & 0   & 0 \\\\\n",
    "0   & f_2 & 0   & 0 \\\\\n",
    "0   & 0   & f_3 & 0 \\\\\n",
    "\\end{bmatrix}\n",
    "\\circ\n",
    "\\begin{bmatrix}\n",
    "I   & 0   & 0   & 0 \\\\\n",
    "f_1 & 0   & 0   & 0 \\\\\n",
    "0   & f_2 & 0   & 0 \\\\\n",
    "0   & 0   & f_3 & 0 \\\\\n",
    "\\end{bmatrix}\n",
    "\\circ\n",
    "\\begin{bmatrix}\n",
    "I   & 0   & 0   & 0 \\\\\n",
    "f_1 & 0   & 0   & 0 \\\\\n",
    "0   & f_2 & 0   & 0 \\\\\n",
    "0   & 0   & f_3 & 0 \\\\\n",
    "\\end{bmatrix}\n",
    "\\circ\n",
    "\\begin{bmatrix}\n",
    "x_0 \\\\\n",
    "h_1 \\\\\n",
    "h_2 \\\\\n",
    "y_0 \\\\\n",
    "\\end{bmatrix}\n",
    "=\n",
    "\\begin{bmatrix}\n",
    "x_0 \\\\\n",
    "f_1(x_0) \\\\\n",
    "f_2(f_1(x_0)) \\\\\n",
    "f_3(f_2(f_1(x_0))) \\\\\n",
    "\\end{bmatrix}\n",
    "$$\n",
    "\n",
    "Two neat things have happened. First notice that the hidden layers $h_1$ and $h_2$ have been overwritten by the training process, so their initiationlization is irrelevant.  Second, we have the last entry has the form $f_3(f_2(f_1(x_0)))$ which is exactly the form of the answer that the MLP would have given!"
   ]
  },
  {
   "cell_type": "markdown",
   "metadata": {},
   "source": [
    "Hare:  So, the MLP is a cunningly designed iterative map that ignores the initial guess $y_0$ and the hidden layers $h_1$ and $h_2$ and gives the same answer as the iterative map that we are trying to learn!  "
   ]
  },
  {
   "cell_type": "code",
   "execution_count": 6,
   "id": "ebbc9b74-d7dc-4dd6-bb72-88ed57f5b63e",
   "metadata": {
    "id": "ebbc9b74-d7dc-4dd6-bb72-88ed57f5b63e"
   },
   "outputs": [],
   "source": [
    "input_size = int(x_mask.sum())\n",
    "h1_size = 20\n",
    "h2_size = 20\n",
    "output_size = int(y_mask.sum())\n",
    "\n",
    "x_idx = torch.arange(0, input_size)\n",
    "h_idx = torch.arange(input_size, input_size+h1_size+h2_size)\n",
    "y_idx = torch.arange(input_size+h1_size+h2_size, input_size+h1_size+h2_size+output_size)\n",
    "\n",
    "total_size = input_size + h1_size + h2_size + output_size\n",
    "\n",
    "iterations = 3\n",
    "\n",
    "I = Identity(in_features=input_size, out_features=input_size)\n",
    "f1 = Sequential1D(torch.nn.Linear(in_features=input_size, out_features=h1_size), \n",
    "                  torch.nn.ReLU(), \n",
    "                  in_features=input_size, out_features=h1_size)\n",
    "f2 = Sequential1D(torch.nn.Linear(in_features=h1_size, out_features=h2_size), \n",
    "                  torch.nn.ReLU(), \n",
    "                  in_features=h1_size,    out_features=h2_size)\n",
    "f3 = torch.nn.Linear(in_features=h2_size,    out_features=output_size)    \n",
    "\n",
    "in_features_list  = [input_size, h1_size, h2_size, output_size]\n",
    "out_features_list = [input_size, h1_size, h2_size, output_size]\n",
    "blocks = [[I,    None, None, None],\n",
    "          [f1,   None, None, None],\n",
    "          [None, f2,   None, None],\n",
    "          [None, None, f3,   None]]\n",
    "\n",
    "def transpose_blocks(blocks):\n",
    "    return [[blocks[j][i] for j in range(len(blocks))] for i in range(len(blocks[0]))]\n",
    "\n",
    "map = Sequential2D(\n",
    "    in_features_list=in_features_list,\n",
    "    out_features_list=out_features_list,\n",
    "    blocks=transpose_blocks(blocks)\n",
    ")   "
   ]
  },
  {
   "cell_type": "code",
   "execution_count": 7,
   "metadata": {},
   "outputs": [],
   "source": [
    "zh_start_tensor = torch.cat((z_start_tensor[:, x_mask],\n",
    "                             torch.zeros(z_start_tensor.shape[0], len(h_idx)), \n",
    "                             z_start_tensor[:, y_mask]), dim=1)\n",
    "zh_target_tensor = torch.cat((z_target_tensor[:, x_mask], \n",
    "                             torch.zeros(z_target_tensor.shape[0], len(h_idx)), \n",
    "                             z_target_tensor[:, y_mask]), dim=1)"
   ]
  },
  {
   "cell_type": "code",
   "execution_count": 8,
   "id": "a7eeb2b8",
   "metadata": {},
   "outputs": [],
   "source": [
    "# a dataloader which returns a batch of start and target data\n",
    "class Data(torch.utils.data.Dataset):\n",
    "    def __init__(self, z_start, z_target):\n",
    "        self.z_start = z_start\n",
    "        self.z_target = z_target\n",
    "    def __len__(self):\n",
    "        return len(self.z_start)\n",
    "    def __getitem__(self, idx):\n",
    "        return self.z_start[idx], self.z_target[idx]\n",
    "    \n",
    "train_data = Data(zh_start_tensor, zh_target_tensor)\n",
    "train_loader = torch.utils.data.DataLoader(train_data, batch_size=512, shuffle=True)"
   ]
  },
  {
   "cell_type": "code",
   "execution_count": 9,
   "id": "7486ca78-5e1c-4f94-afb5-9015303aaa09",
   "metadata": {
    "colab": {
     "base_uri": "https://localhost:8080/",
     "height": 382,
     "referenced_widgets": [
      "915d05c1f046462ebe574b6b306b6110",
      "df24beefb77f4549b7beed2e23558980",
      "a5a6545605cb475fb4bd6db5d32b0b24",
      "5959c15bd28a4059b8952689490ebe2f",
      "a3075bdd01e047faa3f1246dabaedcc7",
      "4d5e173f3cdd465b9b40f8b23d270e8a",
      "4340e450c8c9444784e3ac188b9230df",
      "c81f9b0a5dee4db396442599cb295097",
      "faf8ff98c59b4951b62cd8ad4e1d5bfa",
      "a955f09104b54e37b262198a3807761c",
      "d4d3328dd8914927b619350b49b6f81c"
     ]
    },
    "id": "7486ca78-5e1c-4f94-afb5-9015303aaa09",
    "outputId": "e3247ec9-d372-4fda-c69e-654d985bc905"
   },
   "outputs": [],
   "source": [
    "# Define the loss function and optimizer\n",
    "criterion = torch.nn.MSELoss()\n",
    "optimizer = torch.optim.Adam(map.parameters(), lr=0.001)"
   ]
  },
  {
   "cell_type": "code",
   "execution_count": 10,
   "metadata": {},
   "outputs": [
    {
     "name": "stdout",
     "output_type": "stream",
     "text": [
      "Epoch 0, Batch 1, Loss 0.09895341843366623\n",
      "Epoch 100, Batch 1, Loss 0.022353243082761765\n",
      "Epoch 200, Batch 1, Loss 0.011248795315623283\n",
      "Epoch 300, Batch 1, Loss 0.007137204986065626\n",
      "Epoch 400, Batch 1, Loss 0.004748858045786619\n"
     ]
    }
   ],
   "source": [
    "max_epochs = 500\n",
    "# Train the model\n",
    "for epoch in range(max_epochs):\n",
    "    for batch_idx, (start, target) in enumerate(train_loader):\n",
    "        optimizer.zero_grad()\n",
    "\n",
    "        mapped = start\n",
    "\n",
    "        # Before\n",
    "        loss = 0.0\n",
    "        for i in range(iterations):\n",
    "            mapped = map(mapped)\n",
    "        loss = criterion(mapped[:, y_idx], target[:, y_idx])\n",
    "\n",
    "        # # After\n",
    "        # loss = 0.0\n",
    "        # for i in range(iterations):\n",
    "        #     mapped = map(mapped)\n",
    "        #     loss += criterion(mapped[:, y_idx], target[:, y_idx])\n",
    "\n",
    "        # # After v2\n",
    "        # loss = 0.0\n",
    "        # for i in range(iterations):\n",
    "        #     mapped = map(mapped)\n",
    "        #     loss += i*criterion(mapped[:, y_idx], target[:, y_idx])\n",
    "\n",
    "        # Computed the gradients of the Ws and bs\n",
    "        loss.backward()\n",
    "\n",
    "        # This APPLIEs the gradients to the Ws and bs\n",
    "        optimizer.step()\n",
    "    if epoch % 100 == 0:\n",
    "        print(f'Epoch {epoch}, Batch {batch_idx}, Loss {loss.item()}')"
   ]
  },
  {
   "cell_type": "markdown",
   "id": "054793e0",
   "metadata": {},
   "source": [
    "# Training data"
   ]
  },
  {
   "cell_type": "code",
   "execution_count": 11,
   "metadata": {},
   "outputs": [],
   "source": [
    "def project(z_start, z_mapped, z_target, idx, one_hot=False):\n",
    "    if len(idx) == 1:\n",
    "        start = z_start[:, idx[0]]\n",
    "        target = z_target[:, idx[0]]\n",
    "        mapped = z_mapped[:, idx[0]]\n",
    "    else:\n",
    "        if one_hot:\n",
    "            start = torch.argmax(z_start[:, idx], dim=1)\n",
    "            target = torch.argmax(z_target[:, idx], dim=1)\n",
    "            mapped = torch.argmax(z_mapped[:, idx], dim=1)\n",
    "        else:\n",
    "            # Use PCA to reduce the dimensionality of the data\n",
    "            _, _, V = torch.svd(z_target[:, idx])\n",
    "            start = torch.matmul(z_start[:, idx], V[:, 0])\n",
    "            target = torch.matmul(z_target[:, idx], V[:, 0])\n",
    "            mapped = torch.matmul(z_mapped[:, idx], V[:, 0])\n",
    "    return start, mapped, target\n",
    "\n",
    "\n",
    "def my_plot(z_start, z_mapped, z_target, plot_points, x_idx, y_idx, one_hot_y=False):\n",
    "    start_x, mapped_x, target_x = project(z_start, z_mapped, z_target, x_idx)\n",
    "    start_y, mapped_y, target_y = project(z_start, z_mapped, z_target, y_idx, one_hot_y)\n",
    "    plot_2D_start_end(start_x, start_y,\n",
    "                      mapped_x, mapped_y, \n",
    "                      target_x, target_y, \n",
    "                      plot_points)"
   ]
  },
  {
   "cell_type": "code",
   "execution_count": 12,
   "metadata": {},
   "outputs": [
    {
     "data": {
      "application/vnd.jupyter.widget-view+json": {
       "model_id": "0863e8691c6848be8101b33606d84aa4",
       "version_major": 2,
       "version_minor": 0
      },
      "image/png": "[encoded data removed]",
      "text/html": [
       "\n",
       "            <div style=\"display: inline-block;\">\n",
       "                <div class=\"jupyter-widgets widget-label\" style=\"text-align: center;\">\n",
       "                    Figure\n",
       "                </div>\n",
       "                <img src='data:image/png;base64,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' width=640.0/>\n",
       "            </div>\n",
       "        "
      ],
      "text/plain": [
       "Canvas(toolbar=Toolbar(toolitems=[('Home', 'Reset original view', 'home', 'home'), ('Back', 'Back to previous …"
      ]
     },
     "metadata": {},
     "output_type": "display_data"
    }
   ],
   "source": [
    "\n",
    "plot_iterations = 1\n",
    "\n",
    "mapped_tensor = zh_start_tensor\n",
    "for i in range(plot_iterations):\n",
    "    mapped_tensor = map(mapped_tensor)\n",
    "mapped_tensor = mapped_tensor.detach()\n",
    "\n",
    "my_plot(zh_start_tensor, mapped_tensor, zh_target_tensor, plot_points=10, x_idx=x_idx, y_idx=y_idx, one_hot_y=one_hot_y)\n"
   ]
  },
  {
   "cell_type": "code",
   "execution_count": 13,
   "id": "8ac074be-5d27-480a-83fe-e1161e9d69ef",
   "metadata": {
    "id": "8ac074be-5d27-480a-83fe-e1161e9d69ef"
   },
   "outputs": [
    {
     "data": {
      "application/vnd.jupyter.widget-view+json": {
       "model_id": "f4572ed3275a4c0686ea4e6f45282299",
       "version_major": 2,
       "version_minor": 0
      },
      "image/png": "[encoded data removed]",
      "text/html": [
       "\n",
       "            <div style=\"display: inline-block;\">\n",
       "                <div class=\"jupyter-widgets widget-label\" style=\"text-align: center;\">\n",
       "                    Figure\n",
       "                </div>\n",
       "                <img src='data:image/png;base64,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' width=640.0/>\n",
       "            </div>\n",
       "        "
      ],
      "text/plain": [
       "Canvas(toolbar=Toolbar(toolitems=[('Home', 'Reset original view', 'home', 'home'), ('Back', 'Back to previous …"
      ]
     },
     "metadata": {},
     "output_type": "display_data"
    }
   ],
   "source": [
    "plot_iterations = iterations\n",
    "\n",
    "mapped_tensor = zh_start_tensor\n",
    "for i in range(plot_iterations):\n",
    "    mapped_tensor = map(mapped_tensor)\n",
    "mapped_tensor = mapped_tensor.detach()\n",
    "\n",
    "my_plot(zh_start_tensor, mapped_tensor, zh_target_tensor, plot_points=10, x_idx=x_idx, y_idx=y_idx, one_hot_y=one_hot_y)"
   ]
  },
  {
   "cell_type": "markdown",
   "metadata": {},
   "source": [
    "# Path"
   ]
  },
  {
   "cell_type": "code",
   "execution_count": 14,
   "metadata": {},
   "outputs": [
    {
     "data": {
      "application/vnd.jupyter.widget-view+json": {
       "model_id": "411d7e9a2fef4aa396dff3a1892a444f",
       "version_major": 2,
       "version_minor": 0
      },
      "image/png": "[encoded data removed]",
      "text/html": [
       "\n",
       "            <div style=\"display: inline-block;\">\n",
       "                <div class=\"jupyter-widgets widget-label\" style=\"text-align: center;\">\n",
       "                    Figure\n",
       "                </div>\n",
       "                <img src='data:image/png;base64,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' width=640.0/>\n",
       "            </div>\n",
       "        "
      ],
      "text/plain": [
       "Canvas(toolbar=Toolbar(toolitems=[('Home', 'Reset original view', 'home', 'home'), ('Back', 'Back to previous …"
      ]
     },
     "metadata": {},
     "output_type": "display_data"
    }
   ],
   "source": [
    "plot_points = 10\n",
    "\n",
    "\n",
    "mapped_tensors = [zh_start_tensor[:plot_points, :]]\n",
    "for i in range(iterations):\n",
    "    mapped_tensors.append(map(mapped_tensors[i]).detach())\n",
    "\n",
    "\n",
    "plt.figure()\n",
    "\n",
    "for i, mapped_tensor in enumerate(mapped_tensors):\n",
    "    if i > 0:\n",
    "        start = mapped_tensors[i-1]\n",
    "        mapped = mapped_tensors[i]\n",
    "\n",
    "        start_x, mapped_x, target_x = project(start, mapped, zh_target_tensor, idx=x_idx)\n",
    "        start_y, mapped_y, target_y = project(start, mapped, zh_target_tensor, idx=y_idx, one_hot=one_hot_y)\n",
    "\n",
    "        dx = mapped_x-start_x\n",
    "        dy = mapped_y-start_y\n",
    "        plt.quiver(start_x, start_y, dx, dy, scale=1, scale_units='xy', angles='xy', color='r', width=0.005)\n",
    "\n",
    "plt.scatter(target_x, target_y, s=1)\n",
    "\n",
    "plt.gca().set_aspect('equal')\n",
    "plt.show()"
   ]
  },
  {
   "cell_type": "markdown",
   "id": "a8d68302",
   "metadata": {},
   "source": [
    "# Testing data"
   ]
  },
  {
   "cell_type": "code",
   "execution_count": 15,
   "id": "1c14b142",
   "metadata": {},
   "outputs": [
    {
     "data": {
      "application/vnd.jupyter.widget-view+json": {
       "model_id": "4a8eab31401745789f290fb1fd89bcc0",
       "version_major": 2,
       "version_minor": 0
      },
      "image/png": "[encoded data removed]",
      "text/html": [
       "\n",
       "            <div style=\"display: inline-block;\">\n",
       "                <div class=\"jupyter-widgets widget-label\" style=\"text-align: center;\">\n",
       "                    Figure\n",
       "                </div>\n",
       "                <img src='data:image/png;base64,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' width=640.0/>\n",
       "            </div>\n",
       "        "
      ],
      "text/plain": [
       "Canvas(toolbar=Toolbar(toolitems=[('Home', 'Reset original view', 'home', 'home'), ('Back', 'Back to previous …"
      ]
     },
     "metadata": {},
     "output_type": "display_data"
    }
   ],
   "source": [
    "zh_start_tensor_test = zh_start_tensor+torch.rand_like(zh_start_tensor)*0.2\n",
    "mapped_tensor = zh_start_tensor_test\n",
    "for i in range(iterations):\n",
    "    mapped_tensor = map(mapped_tensor)\n",
    "mapped_tensor = mapped_tensor.detach()\n",
    "\n",
    "my_plot(zh_start_tensor_test, mapped_tensor, zh_target_tensor, plot_points=10, x_idx=x_idx, y_idx=y_idx, one_hot_y=one_hot_y)\n"
   ]
  },
  {
   "cell_type": "code",
   "execution_count": 16,
   "metadata": {},
   "outputs": [
    {
     "name": "stdout",
     "output_type": "stream",
     "text": [
      "i = 836\n",
      "tensor([0.1472, 0.2912, 0.1744, 0.2574, 0.2841, 0.2603, 0.2607, 0.1259, 0.1485,\n",
      "        0.2773])\n",
      "tensor([ 0.0241,  0.0015,  0.0538,  0.1401,  0.7737, -0.0239,  0.0309, -0.1274,\n",
      "        -0.0322,  0.1431])\n",
      "tensor([0., 0., 0., 0., 1., 0., 0., 0., 0., 0.])\n",
      "1 -> 4 -> 4\n",
      "i = 291\n",
      "tensor([0.2573, 0.1611, 0.2524, 0.1100, 0.1290, 0.2623, 0.2617, 0.1792, 0.2714,\n",
      "        0.2174])\n",
      "tensor([ 0.0029,  0.8566,  0.0101,  0.0046,  0.0113, -0.0325,  0.0059, -0.0092,\n",
      "         0.1429, -0.0091])\n",
      "tensor([0., 1., 0., 0., 0., 0., 0., 0., 0., 0.])\n",
      "8 -> 1 -> 1\n",
      "i = 436\n",
      "tensor([0.1450, 0.2877, 0.2918, 0.1698, 0.2784, 0.2680, 0.2331, 0.1305, 0.2501,\n",
      "        0.1044])\n",
      "tensor([-0.0078,  0.9535, -0.0374,  0.0936, -0.0107, -0.0070, -0.0693, -0.0026,\n",
      "         0.0442, -0.0272])\n",
      "tensor([0., 1., 0., 0., 0., 0., 0., 0., 0., 0.])\n",
      "2 -> 1 -> 1\n",
      "i = 597\n",
      "tensor([0.1443, 0.1344, 0.2802, 0.2662, 0.2161, 0.2569, 0.1231, 0.2523, 0.2500,\n",
      "        0.1098])\n",
      "tensor([ 0.0041,  0.0110,  0.0310,  0.0019,  0.0229,  0.0117,  0.8491, -0.0092,\n",
      "         0.0472,  0.0010])\n",
      "tensor([0., 0., 0., 0., 0., 0., 1., 0., 0., 0.])\n",
      "2 -> 6 -> 6\n",
      "i = 973\n",
      "tensor([0.2979, 0.1405, 0.2317, 0.1320, 0.1743, 0.1303, 0.2054, 0.2737, 0.2444,\n",
      "        0.2254])\n",
      "tensor([-0.0044,  0.0116,  0.0083, -0.0233,  0.8558,  0.0384,  0.0692, -0.0490,\n",
      "         0.0307,  0.0665])\n",
      "tensor([0., 0., 0., 0., 1., 0., 0., 0., 0., 0.])\n",
      "0 -> 4 -> 4\n"
     ]
    }
   ],
   "source": [
    "for i in torch.randperm(zh_start_tensor.shape[0])[:5]:\n",
    "    print(f'i = {i}')    \n",
    "    print(zh_start_tensor_test[i,y_idx])\n",
    "    print(mapped_tensor[i,y_idx])\n",
    "    print(zh_target_tensor[i,y_idx])\n",
    "    print(f'{torch.argmax(zh_start_tensor_test[i,y_idx])} -> {torch.argmax(mapped_tensor[i,y_idx])} -> {torch.argmax(zh_target_tensor[i,y_idx])}')\n",
    "\n"
   ]
  },
  {
   "cell_type": "code",
   "execution_count": null,
   "metadata": {},
   "outputs": [],
   "source": [
    "# Here is some new code, but I am not sure that Randy is going to like it!   I am worried that he will be mad!\n",
    "\n",
    "foo = load('foo.r')"
   ]
  }
 ],
 "metadata": {
  "accelerator": "GPU",
  "colab": {
   "include_colab_link": true,
   "provenance": []
  },
  "gpuClass": "standard",
  "jupytext": {
   "formats": "ipynb,py:percent,md"
  },
  "kernelspec": {
   "display_name": "Python 3 (ipykernel)",
   "language": "python",
   "name": "python3"
  },
  "language_info": {
   "codemirror_mode": {
    "name": "ipython",
    "version": 3
   },
   "file_extension": ".py",
   "mimetype": "text/x-python",
   "name": "python",
   "nbconvert_exporter": "python",
   "pygments_lexer": "ipython3",
   "version": "3.10.8"
  },
  "widgets": {
   "application/vnd.jupyter.widget-state+json": {
    "4340e450c8c9444784e3ac188b9230df": {
     "model_module": "@jupyter-widgets/controls",
     "model_module_version": "1.5.0",
     "model_name": "DescriptionStyleModel",
     "state": {
      "_model_module": "@jupyter-widgets/controls",
      "_model_module_version": "1.5.0",
      "_model_name": "DescriptionStyleModel",
      "_view_count": null,
      "_view_module": "@jupyter-widgets/base",
      "_view_module_version": "1.2.0",
      "_view_name": "StyleView",
      "description_width": ""
     }
    },
    "4d5e173f3cdd465b9b40f8b23d270e8a": {
     "model_module": "@jupyter-widgets/base",
     "model_module_version": "1.2.0",
     "model_name": "LayoutModel",
     "state": {
      "_model_module": "@jupyter-widgets/base",
      "_model_module_version": "1.2.0",
      "_model_name": "LayoutModel",
      "_view_count": null,
      "_view_module": "@jupyter-widgets/base",
      "_view_module_version": "1.2.0",
      "_view_name": "LayoutView",
      "align_content": null,
      "align_items": null,
      "align_self": null,
      "border": null,
      "bottom": null,
      "display": null,
      "flex": null,
      "flex_flow": null,
      "grid_area": null,
      "grid_auto_columns": null,
      "grid_auto_flow": null,
      "grid_auto_rows": null,
      "grid_column": null,
      "grid_gap": null,
      "grid_row": null,
      "grid_template_areas": null,
      "grid_template_columns": null,
      "grid_template_rows": null,
      "height": null,
      "justify_content": null,
      "justify_items": null,
      "left": null,
      "margin": null,
      "max_height": null,
      "max_width": null,
      "min_height": null,
      "min_width": null,
      "object_fit": null,
      "object_position": null,
      "order": null,
      "overflow": null,
      "overflow_x": null,
      "overflow_y": null,
      "padding": null,
      "right": null,
      "top": null,
      "visibility": null,
      "width": null
     }
    },
    "5959c15bd28a4059b8952689490ebe2f": {
     "model_module": "@jupyter-widgets/controls",
     "model_module_version": "1.5.0",
     "model_name": "HTMLModel",
     "state": {
      "_dom_classes": [],
      "_model_module": "@jupyter-widgets/controls",
      "_model_module_version": "1.5.0",
      "_model_name": "HTMLModel",
      "_view_count": null,
      "_view_module": "@jupyter-widgets/controls",
      "_view_module_version": "1.5.0",
      "_view_name": "HTMLView",
      "description": "",
      "description_tooltip": null,
      "layout": "IPY_MODEL_a955f09104b54e37b262198a3807761c",
      "placeholder": "​",
      "style": "IPY_MODEL_d4d3328dd8914927b619350b49b6f81c",
      "value": " 999/999 [00:08&lt;00:00, 114.60it/s, loss=0.000293, v_num=0]"
     }
    },
    "915d05c1f046462ebe574b6b306b6110": {
     "model_module": "@jupyter-widgets/controls",
     "model_module_version": "1.5.0",
     "model_name": "HBoxModel",
     "state": {
      "_dom_classes": [],
      "_model_module": "@jupyter-widgets/controls",
      "_model_module_version": "1.5.0",
      "_model_name": "HBoxModel",
      "_view_count": null,
      "_view_module": "@jupyter-widgets/controls",
      "_view_module_version": "1.5.0",
      "_view_name": "HBoxView",
      "box_style": "",
      "children": [
       "IPY_MODEL_df24beefb77f4549b7beed2e23558980",
       "IPY_MODEL_a5a6545605cb475fb4bd6db5d32b0b24",
       "IPY_MODEL_5959c15bd28a4059b8952689490ebe2f"
      ],
      "layout": "IPY_MODEL_a3075bdd01e047faa3f1246dabaedcc7"
     }
    },
    "a3075bdd01e047faa3f1246dabaedcc7": {
     "model_module": "@jupyter-widgets/base",
     "model_module_version": "1.2.0",
     "model_name": "LayoutModel",
     "state": {
      "_model_module": "@jupyter-widgets/base",
      "_model_module_version": "1.2.0",
      "_model_name": "LayoutModel",
      "_view_count": null,
      "_view_module": "@jupyter-widgets/base",
      "_view_module_version": "1.2.0",
      "_view_name": "LayoutView",
      "align_content": null,
      "align_items": null,
      "align_self": null,
      "border": null,
      "bottom": null,
      "display": "inline-flex",
      "flex": null,
      "flex_flow": "row wrap",
      "grid_area": null,
      "grid_auto_columns": null,
      "grid_auto_flow": null,
      "grid_auto_rows": null,
      "grid_column": null,
      "grid_gap": null,
      "grid_row": null,
      "grid_template_areas": null,
      "grid_template_columns": null,
      "grid_template_rows": null,
      "height": null,
      "justify_content": null,
      "justify_items": null,
      "left": null,
      "margin": null,
      "max_height": null,
      "max_width": null,
      "min_height": null,
      "min_width": null,
      "object_fit": null,
      "object_position": null,
      "order": null,
      "overflow": null,
      "overflow_x": null,
      "overflow_y": null,
      "padding": null,
      "right": null,
      "top": null,
      "visibility": null,
      "width": "100%"
     }
    },
    "a5a6545605cb475fb4bd6db5d32b0b24": {
     "model_module": "@jupyter-widgets/controls",
     "model_module_version": "1.5.0",
     "model_name": "FloatProgressModel",
     "state": {
      "_dom_classes": [],
      "_model_module": "@jupyter-widgets/controls",
      "_model_module_version": "1.5.0",
      "_model_name": "FloatProgressModel",
      "_view_count": null,
      "_view_module": "@jupyter-widgets/controls",
      "_view_module_version": "1.5.0",
      "_view_name": "ProgressView",
      "bar_style": "success",
      "description": "",
      "description_tooltip": null,
      "layout": "IPY_MODEL_c81f9b0a5dee4db396442599cb295097",
      "max": 999,
      "min": 0,
      "orientation": "horizontal",
      "style": "IPY_MODEL_faf8ff98c59b4951b62cd8ad4e1d5bfa",
      "value": 999
     }
    },
    "a955f09104b54e37b262198a3807761c": {
     "model_module": "@jupyter-widgets/base",
     "model_module_version": "1.2.0",
     "model_name": "LayoutModel",
     "state": {
      "_model_module": "@jupyter-widgets/base",
      "_model_module_version": "1.2.0",
      "_model_name": "LayoutModel",
      "_view_count": null,
      "_view_module": "@jupyter-widgets/base",
      "_view_module_version": "1.2.0",
      "_view_name": "LayoutView",
      "align_content": null,
      "align_items": null,
      "align_self": null,
      "border": null,
      "bottom": null,
      "display": null,
      "flex": null,
      "flex_flow": null,
      "grid_area": null,
      "grid_auto_columns": null,
      "grid_auto_flow": null,
      "grid_auto_rows": null,
      "grid_column": null,
      "grid_gap": null,
      "grid_row": null,
      "grid_template_areas": null,
      "grid_template_columns": null,
      "grid_template_rows": null,
      "height": null,
      "justify_content": null,
      "justify_items": null,
      "left": null,
      "margin": null,
      "max_height": null,
      "max_width": null,
      "min_height": null,
      "min_width": null,
      "object_fit": null,
      "object_position": null,
      "order": null,
      "overflow": null,
      "overflow_x": null,
      "overflow_y": null,
      "padding": null,
      "right": null,
      "top": null,
      "visibility": null,
      "width": null
     }
    },
    "c81f9b0a5dee4db396442599cb295097": {
     "model_module": "@jupyter-widgets/base",
     "model_module_version": "1.2.0",
     "model_name": "LayoutModel",
     "state": {
      "_model_module": "@jupyter-widgets/base",
      "_model_module_version": "1.2.0",
      "_model_name": "LayoutModel",
      "_view_count": null,
      "_view_module": "@jupyter-widgets/base",
      "_view_module_version": "1.2.0",
      "_view_name": "LayoutView",
      "align_content": null,
      "align_items": null,
      "align_self": null,
      "border": null,
      "bottom": null,
      "display": null,
      "flex": "2",
      "flex_flow": null,
      "grid_area": null,
      "grid_auto_columns": null,
      "grid_auto_flow": null,
      "grid_auto_rows": null,
      "grid_column": null,
      "grid_gap": null,
      "grid_row": null,
      "grid_template_areas": null,
      "grid_template_columns": null,
      "grid_template_rows": null,
      "height": null,
      "justify_content": null,
      "justify_items": null,
      "left": null,
      "margin": null,
      "max_height": null,
      "max_width": null,
      "min_height": null,
      "min_width": null,
      "object_fit": null,
      "object_position": null,
      "order": null,
      "overflow": null,
      "overflow_x": null,
      "overflow_y": null,
      "padding": null,
      "right": null,
      "top": null,
      "visibility": null,
      "width": null
     }
    },
    "d4d3328dd8914927b619350b49b6f81c": {
     "model_module": "@jupyter-widgets/controls",
     "model_module_version": "1.5.0",
     "model_name": "DescriptionStyleModel",
     "state": {
      "_model_module": "@jupyter-widgets/controls",
      "_model_module_version": "1.5.0",
      "_model_name": "DescriptionStyleModel",
      "_view_count": null,
      "_view_module": "@jupyter-widgets/base",
      "_view_module_version": "1.2.0",
      "_view_name": "StyleView",
      "description_width": ""
     }
    },
    "df24beefb77f4549b7beed2e23558980": {
     "model_module": "@jupyter-widgets/controls",
     "model_module_version": "1.5.0",
     "model_name": "HTMLModel",
     "state": {
      "_dom_classes": [],
      "_model_module": "@jupyter-widgets/controls",
      "_model_module_version": "1.5.0",
      "_model_name": "HTMLModel",
      "_view_count": null,
      "_view_module": "@jupyter-widgets/controls",
      "_view_module_version": "1.5.0",
      "_view_name": "HTMLView",
      "description": "",
      "description_tooltip": null,
      "layout": "IPY_MODEL_4d5e173f3cdd465b9b40f8b23d270e8a",
      "placeholder": "​",
      "style": "IPY_MODEL_4340e450c8c9444784e3ac188b9230df",
      "value": "Epoch 9: 100%"
     }
    },
    "faf8ff98c59b4951b62cd8ad4e1d5bfa": {
     "model_module": "@jupyter-widgets/controls",
     "model_module_version": "1.5.0",
     "model_name": "ProgressStyleModel",
     "state": {
      "_model_module": "@jupyter-widgets/controls",
      "_model_module_version": "1.5.0",
      "_model_name": "ProgressStyleModel",
      "_view_count": null,
      "_view_module": "@jupyter-widgets/base",
      "_view_module_version": "1.2.0",
      "_view_name": "StyleView",
      "bar_color": null,
      "description_width": ""
     }
    }
   }
  }
 },
 "nbformat": 4,
 "nbformat_minor": 5
}
